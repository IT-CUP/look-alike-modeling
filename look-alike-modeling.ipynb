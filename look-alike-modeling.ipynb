{
 "cells": [
  {
   "cell_type": "code",
   "execution_count": 64,
   "id": "6621c9f6",
   "metadata": {},
   "outputs": [],
   "source": [
    "# General\n",
    "\n",
    "import re\n",
    "import pandas as pd\n",
    "from pandas.plotting import scatter_matrix\n",
    "import numpy as np\n",
    "import matplotlib.pyplot as plt\n",
    "plt.style.use('seaborn-whitegrid')\n",
    "%matplotlib inline\n",
    "from sklearn.pipeline import Pipeline\n",
    "from sklearn.model_selection import train_test_split\n",
    "import seaborn as sns\n",
    "import tsfresh\n",
    "\n",
    "# Normal distr check\n",
    "\n",
    "from scipy.stats import normaltest\n",
    "from scipy.stats import probplot\n",
    "\n",
    "# Data engineering  \n",
    "\n",
    "from sklearn.preprocessing import RobustScaler\n",
    "from sklearn.preprocessing import FunctionTransformer\n",
    "from sklearn.experimental import enable_iterative_imputer\n",
    "from sklearn.impute import IterativeImputer\n",
    "from sklearn.decomposition import PCA\n",
    "from tsfresh.feature_extraction import extract_features\n",
    "\n",
    "# Models\n",
    "\n",
    "from sklearn.naive_bayes import GaussianNB\n",
    "from sklearn.svm import LinearSVC\n",
    "from sklearn.ensemble import AdaBoostClassifier\n",
    "from sklearn.linear_model import LogisticRegression\n",
    "from sklearn.ensemble import ExtraTreesClassifier\n",
    "from xgboost import XGBClassifier\n",
    "\n",
    "# Voting\n",
    "\n",
    "from sklearn.ensemble import VotingClassifier\n",
    "\n",
    "# Model selection\n",
    "\n",
    "from sklearn.model_selection import cross_val_score, KFold, cross_validate\n",
    "from sklearn.model_selection import GridSearchCV\n",
    "from sklearn.model_selection import learning_curve\n",
    "\n",
    "# Metrics\n",
    "\n",
    "from sklearn.metrics import f1_score, precision_score, make_scorer, accuracy_score, classification_report"
   ]
  },
  {
   "cell_type": "code",
   "execution_count": 3,
   "id": "25205df8",
   "metadata": {},
   "outputs": [],
   "source": [
    "# Load data\n",
    "\n",
    "df = pd.read_csv('/Users/yuni/Downloads/Telegram Desktop/Cup_IT_2022_Датасет_Data_Science.csv')    \n",
    "y = df['is_in_club']\n",
    "df.drop(columns=['client_id', 'is_in_club'], inplace=True)"
   ]
  },
  {
   "cell_type": "code",
   "execution_count": 4,
   "id": "433b69eb",
   "metadata": {},
   "outputs": [],
   "source": [
    "# Preprocessing\n",
    "\n",
    "\n",
    "def fill_missing(df):    \n",
    "    return df.fillna(0)\n",
    "\n",
    "def get_categories(df):\n",
    "    cats = set()\n",
    "    for col in df.columns:\n",
    "        if 'rto_std' in col:\n",
    "            cat = col.split('_')[-1]\n",
    "            if not cat.isdigit():\n",
    "                cats.add(cat)\n",
    "    cats = list(cats)   \n",
    "    return cats\n",
    "\n",
    "def preprocessing(df, y):\n",
    "        \n",
    "    pipe = Pipeline([\n",
    "        ('Normal distr', FunctionTransformer(lambda X: np.log10(X + 1), validate=False)),\n",
    "        ('Scaling + outlier detection', RobustScaler())\n",
    "    ])\n",
    "    bad_index = df.index[(df < 0).any(1)]\n",
    "    y = y.drop(index=bad_index).reset_index()['is_in_club']\n",
    "    df = df.drop(index=bad_index).reset_index().drop(columns='index')\n",
    "    \n",
    "    df = pd.DataFrame(pipe.fit_transform(df), columns=df.columns, index=df.index)\n",
    "    return df, y"
   ]
  },
  {
   "cell_type": "code",
   "execution_count": 5,
   "id": "55a92806",
   "metadata": {},
   "outputs": [],
   "source": [
    "# Add new features\n",
    "\n",
    "def add_extra(df):\n",
    "    cats = get_categories(df)\n",
    "    for i in range(6,12):\n",
    "        df['increasing_rto_'+str(i+1)] = df['rto_'+str(i)]<=df['rto_'+str(i+1)]\n",
    "        df['increasing_cnt_checks_'+str(i+1)] = df['cnt_checks_'+str(i)]<=df['cnt_checks_'+str(i+1)]\n",
    "        \n",
    "    for n in range(6, 13):\n",
    "        df[f'average_check_{n}'] = np.where(df[f'cnt_checks_{n}'] == 0, df[f'cnt_checks_{n}'],\n",
    "                                                 df[f'rto_{n}'] / df[f'cnt_checks_{n}'])\n",
    "    for n in range(6, 13):\n",
    "        for cat in cats:\n",
    "            df[f'average_check_{n}_{cat}'] = np.where(df[f'cnt_checks_{n}_{cat}'] == 0,\n",
    "                                                          df[f'cnt_checks_{n}_{cat}'], \n",
    "                                                          df[f'rto_{n}_{cat}'] / df[f'cnt_checks_{n}_{cat}'])\n",
    "    columns_raw = [f'average_check_{cat}' for cat in cats]\n",
    "\n",
    "    def make_row(month):\n",
    "        return pd.DataFrame(np.empty((1, len(columns_raw))), columns=columns_raw, index=[month])\n",
    "\n",
    "    objs = [make_row(n) for n in range(6, 13)]\n",
    "    matrix_layout = pd.concat(objs, axis=0)\n",
    "\n",
    "    target_columns = [f'average_check_{n}_{cat}' for n in range(6, 13) for cat in cats]\n",
    "\n",
    "    TS = []\n",
    "    n = 0\n",
    "    for c in df.index:\n",
    "        matrix = matrix_layout.copy()\n",
    "        for i in matrix_layout.index:\n",
    "            for j in matrix_layout.columns:\n",
    "                cat = j.split('_')[-1]\n",
    "                matrix.loc[i, j] = df.loc[c, f'average_check_{i}_{cat}']\n",
    "        TS.append(matrix)\n",
    "    TS = pd.concat(TS, axis=0)\n",
    "    TS['time'] = list(range(6, 13))*df.shape[0]\n",
    "    TS.index = np.array([[c]*7 for c in df.index]).flatten()\n",
    "    TS.reset_index(inplace=True)\n",
    "    TS.rename(columns={'index':'id'}, inplace=True)\n",
    "    \n",
    "    params = {\n",
    "    \"abs_energy\": None,\n",
    "    \"absolute_maximum\": None,\n",
    "    \"absolute_sum_of_changes\": None,\n",
    "    \"count_above_mean\": None,\n",
    "    \"mean_abs_change\": None,\n",
    "    \"skewness\": None,\n",
    "    \"sum_values\": None,\n",
    "    \"ratio_beyond_r_sigma\": [{\"r\": 1}]\n",
    "    }\n",
    "\n",
    "    fm = extract_features(TS, default_fc_parameters=params, column_id='id', column_sort='time')\n",
    "    \n",
    "    df = pd.concat([df, fm], axis=1)\n",
    "        \n",
    "    return df"
   ]
  },
  {
   "cell_type": "code",
   "execution_count": 6,
   "id": "7ba0a3e4",
   "metadata": {},
   "outputs": [],
   "source": [
    "# Prepare data\n",
    "\n",
    "def prepare_data(X, y):\n",
    "    cats = get_categories(X)\n",
    "    X, y = preprocessing(X, y)\n",
    "    X = add_extra(X)\n",
    "    \n",
    "    return X, y"
   ]
  },
  {
   "cell_type": "code",
   "execution_count": 7,
   "id": "34581d7c",
   "metadata": {},
   "outputs": [],
   "source": [
    "df = fill_missing(df)"
   ]
  },
  {
   "cell_type": "code",
   "execution_count": 8,
   "id": "9fdc2326",
   "metadata": {},
   "outputs": [],
   "source": [
    "X_train, X_test, y_train, y_test = train_test_split(df, y, random_state=42, test_size=0.3, shuffle=False)"
   ]
  },
  {
   "cell_type": "code",
   "execution_count": 9,
   "id": "979fac21",
   "metadata": {},
   "outputs": [
    {
     "name": "stderr",
     "output_type": "stream",
     "text": [
      "Feature Extraction: 100%|███████████████████████| 20/20 [01:29<00:00,  4.50s/it]\n",
      "Feature Extraction: 100%|███████████████████████| 20/20 [00:37<00:00,  1.88s/it]\n"
     ]
    }
   ],
   "source": [
    "# Prepare sets\n",
    "\n",
    "X_train, y_train = prepare_data(X_train, y_train)\n",
    "X_test, y_test = prepare_data(X_test, y_test)"
   ]
  },
  {
   "cell_type": "code",
   "execution_count": 10,
   "id": "c9a7308d",
   "metadata": {},
   "outputs": [],
   "source": [
    "# Model initialization\n",
    "\n",
    "estimators = [\n",
    "    GaussianNB(),\n",
    "    LinearSVC(dual=False),\n",
    "    AdaBoostClassifier(),\n",
    "    LogisticRegression(),\n",
    "    ExtraTreesClassifier(),\n",
    "    XGBClassifier\n",
    "]\n",
    "\n",
    "estimator_names = [\n",
    "    'Naive Bayes',\n",
    "    'Linear SVC',\n",
    "    'AdaBoost',\n",
    "    'LogisticRegression',\n",
    "    'ExtraTrees',\n",
    "    'XGBoost'\n",
    "]"
   ]
  },
  {
   "cell_type": "code",
   "execution_count": 11,
   "id": "4f9fe0b6",
   "metadata": {},
   "outputs": [],
   "source": [
    "# Initial model scoring\n",
    "\n",
    "_metrics = {\n",
    "    \"f1\": make_scorer(f1_score, pos_label=1, average='binary', zero_division=0),\n",
    "    \"precision_score\": make_scorer(precision_score, pos_label=1, average='binary', zero_division=0)\n",
    "}\n",
    "\n",
    "_estimators = {key: estimators[n] for n, key in enumerate(estimator_names)}\n",
    "\n",
    "def scoring(estimators=estimator_names, n_splits=5, metrics=['f1', 'precision_score']):\n",
    "    metrics = {key: _metrics[key] for key in metrics}\n",
    "    estimators = {key: _estimators[key] for key in estimator_names}\n",
    "    scorers = []\n",
    "    labels = []\n",
    "    for model_name in estimators.keys():\n",
    "        model = estimators[model_name]\n",
    "        labels.append(model_name)\n",
    "        kf = KFold(n_splits)\n",
    "        model_score = cross_validate(model, X_train, y_train, scoring=metrics, cv=kf)\n",
    "        scorers.append(model_score)\n",
    "        model.fit(X_train, y_train)\n",
    "        y_pred = model.predict(X_train)\n",
    "        print(classification_report(y_train, y_pred))\n",
    "    scores = {}\n",
    "    for metric in metrics:\n",
    "        scores[metric] = [score['test_' + metric] for score in scorers]\n",
    "    for i,(title, _list) in enumerate(scores.items()):\n",
    "        plt.figure(i)\n",
    "        plot = sns.boxplot(data=_list).set_xticklabels(labels, rotation=45)\n",
    "        plt.title(title)"
   ]
  },
  {
   "cell_type": "code",
   "execution_count": 12,
   "id": "5a87c2cb",
   "metadata": {
    "scrolled": false
   },
   "outputs": [
    {
     "name": "stdout",
     "output_type": "stream",
     "text": [
      "              precision    recall  f1-score   support\n",
      "\n",
      "           0       0.94      0.70      0.80     76772\n",
      "           1       0.17      0.58      0.27      8381\n",
      "\n",
      "    accuracy                           0.69     85153\n",
      "   macro avg       0.56      0.64      0.53     85153\n",
      "weighted avg       0.86      0.69      0.75     85153\n",
      "\n",
      "              precision    recall  f1-score   support\n",
      "\n",
      "           0       0.90      1.00      0.95     76772\n",
      "           1       0.73      0.00      0.01      8381\n",
      "\n",
      "    accuracy                           0.90     85153\n",
      "   macro avg       0.82      0.50      0.48     85153\n",
      "weighted avg       0.89      0.90      0.86     85153\n",
      "\n",
      "              precision    recall  f1-score   support\n",
      "\n",
      "           0       0.90      1.00      0.95     76772\n",
      "           1       0.57      0.01      0.02      8381\n",
      "\n",
      "    accuracy                           0.90     85153\n",
      "   macro avg       0.73      0.50      0.48     85153\n",
      "weighted avg       0.87      0.90      0.86     85153\n",
      "\n"
     ]
    },
    {
     "name": "stderr",
     "output_type": "stream",
     "text": [
      "/Users/yuni/opt/anaconda3/lib/python3.9/site-packages/sklearn/linear_model/_logistic.py:763: ConvergenceWarning: lbfgs failed to converge (status=1):\n",
      "STOP: TOTAL NO. of ITERATIONS REACHED LIMIT.\n",
      "\n",
      "Increase the number of iterations (max_iter) or scale the data as shown in:\n",
      "    https://scikit-learn.org/stable/modules/preprocessing.html\n",
      "Please also refer to the documentation for alternative solver options:\n",
      "    https://scikit-learn.org/stable/modules/linear_model.html#logistic-regression\n",
      "  n_iter_i = _check_optimize_result(\n",
      "/Users/yuni/opt/anaconda3/lib/python3.9/site-packages/sklearn/linear_model/_logistic.py:763: ConvergenceWarning: lbfgs failed to converge (status=1):\n",
      "STOP: TOTAL NO. of ITERATIONS REACHED LIMIT.\n",
      "\n",
      "Increase the number of iterations (max_iter) or scale the data as shown in:\n",
      "    https://scikit-learn.org/stable/modules/preprocessing.html\n",
      "Please also refer to the documentation for alternative solver options:\n",
      "    https://scikit-learn.org/stable/modules/linear_model.html#logistic-regression\n",
      "  n_iter_i = _check_optimize_result(\n",
      "/Users/yuni/opt/anaconda3/lib/python3.9/site-packages/sklearn/linear_model/_logistic.py:763: ConvergenceWarning: lbfgs failed to converge (status=1):\n",
      "STOP: TOTAL NO. of ITERATIONS REACHED LIMIT.\n",
      "\n",
      "Increase the number of iterations (max_iter) or scale the data as shown in:\n",
      "    https://scikit-learn.org/stable/modules/preprocessing.html\n",
      "Please also refer to the documentation for alternative solver options:\n",
      "    https://scikit-learn.org/stable/modules/linear_model.html#logistic-regression\n",
      "  n_iter_i = _check_optimize_result(\n",
      "/Users/yuni/opt/anaconda3/lib/python3.9/site-packages/sklearn/linear_model/_logistic.py:763: ConvergenceWarning: lbfgs failed to converge (status=1):\n",
      "STOP: TOTAL NO. of ITERATIONS REACHED LIMIT.\n",
      "\n",
      "Increase the number of iterations (max_iter) or scale the data as shown in:\n",
      "    https://scikit-learn.org/stable/modules/preprocessing.html\n",
      "Please also refer to the documentation for alternative solver options:\n",
      "    https://scikit-learn.org/stable/modules/linear_model.html#logistic-regression\n",
      "  n_iter_i = _check_optimize_result(\n",
      "/Users/yuni/opt/anaconda3/lib/python3.9/site-packages/sklearn/linear_model/_logistic.py:763: ConvergenceWarning: lbfgs failed to converge (status=1):\n",
      "STOP: TOTAL NO. of ITERATIONS REACHED LIMIT.\n",
      "\n",
      "Increase the number of iterations (max_iter) or scale the data as shown in:\n",
      "    https://scikit-learn.org/stable/modules/preprocessing.html\n",
      "Please also refer to the documentation for alternative solver options:\n",
      "    https://scikit-learn.org/stable/modules/linear_model.html#logistic-regression\n",
      "  n_iter_i = _check_optimize_result(\n",
      "/Users/yuni/opt/anaconda3/lib/python3.9/site-packages/sklearn/linear_model/_logistic.py:763: ConvergenceWarning: lbfgs failed to converge (status=1):\n",
      "STOP: TOTAL NO. of ITERATIONS REACHED LIMIT.\n",
      "\n",
      "Increase the number of iterations (max_iter) or scale the data as shown in:\n",
      "    https://scikit-learn.org/stable/modules/preprocessing.html\n",
      "Please also refer to the documentation for alternative solver options:\n",
      "    https://scikit-learn.org/stable/modules/linear_model.html#logistic-regression\n",
      "  n_iter_i = _check_optimize_result(\n"
     ]
    },
    {
     "name": "stdout",
     "output_type": "stream",
     "text": [
      "              precision    recall  f1-score   support\n",
      "\n",
      "           0       0.90      1.00      0.95     76772\n",
      "           1       0.49      0.01      0.01      8381\n",
      "\n",
      "    accuracy                           0.90     85153\n",
      "   macro avg       0.70      0.50      0.48     85153\n",
      "weighted avg       0.86      0.90      0.86     85153\n",
      "\n"
     ]
    },
    {
     "data": {
      "image/png": "[encoded data removed]",
      "text/plain": [
       "<Figure size 432x288 with 1 Axes>"
      ]
     },
     "metadata": {
      "needs_background": "light"
     },
     "output_type": "display_data"
    },
    {
     "data": {
      "image/png": "[encoded data removed]",
      "text/plain": [
       "<Figure size 432x288 with 1 Axes>"
      ]
     },
     "metadata": {
      "needs_background": "light"
     },
     "output_type": "display_data"
    }
   ],
   "source": [
    "scoring()"
   ]
  },
  {
   "cell_type": "code",
   "execution_count": 17,
   "id": "e679bd4f",
   "metadata": {},
   "outputs": [],
   "source": [
    "def tune_param(model, param_grid, refit='f1', data=X_train, target=y_train, cv=5):\n",
    "    estimator = {key: estimators[n] for n, key in enumerate(estimator_names)}[model]\n",
    "    \n",
    "    gcv = GridSearchCV(estimator, param_grid, scoring=_metrics, refit=refit, cv=cv)\n",
    "    gcv.fit(data, target)\n",
    "    \n",
    "    print('best_score: ' + str(gcv.best_score_))\n",
    "    print('best_params: ' + str(gcv.best_params_))"
   ]
  },
  {
   "cell_type": "code",
   "execution_count": 18,
   "id": "15d18916",
   "metadata": {
    "scrolled": false
   },
   "outputs": [
    {
     "name": "stderr",
     "output_type": "stream",
     "text": [
      "/Users/yuni/opt/anaconda3/lib/python3.9/site-packages/sklearn/linear_model/_sag.py:328: ConvergenceWarning: The max_iter was reached which means the coef_ did not converge\n",
      "  warnings.warn(\"The max_iter was reached which means \"\n",
      "/Users/yuni/opt/anaconda3/lib/python3.9/site-packages/sklearn/linear_model/_sag.py:328: ConvergenceWarning: The max_iter was reached which means the coef_ did not converge\n",
      "  warnings.warn(\"The max_iter was reached which means \"\n",
      "/Users/yuni/opt/anaconda3/lib/python3.9/site-packages/sklearn/linear_model/_sag.py:328: ConvergenceWarning: The max_iter was reached which means the coef_ did not converge\n",
      "  warnings.warn(\"The max_iter was reached which means \"\n",
      "/Users/yuni/opt/anaconda3/lib/python3.9/site-packages/sklearn/linear_model/_sag.py:328: ConvergenceWarning: The max_iter was reached which means the coef_ did not converge\n",
      "  warnings.warn(\"The max_iter was reached which means \"\n",
      "/Users/yuni/opt/anaconda3/lib/python3.9/site-packages/sklearn/linear_model/_sag.py:328: ConvergenceWarning: The max_iter was reached which means the coef_ did not converge\n",
      "  warnings.warn(\"The max_iter was reached which means \"\n",
      "/Users/yuni/opt/anaconda3/lib/python3.9/site-packages/sklearn/linear_model/_sag.py:328: ConvergenceWarning: The max_iter was reached which means the coef_ did not converge\n",
      "  warnings.warn(\"The max_iter was reached which means \"\n",
      "/Users/yuni/opt/anaconda3/lib/python3.9/site-packages/sklearn/linear_model/_sag.py:328: ConvergenceWarning: The max_iter was reached which means the coef_ did not converge\n",
      "  warnings.warn(\"The max_iter was reached which means \"\n",
      "/Users/yuni/opt/anaconda3/lib/python3.9/site-packages/sklearn/linear_model/_sag.py:328: ConvergenceWarning: The max_iter was reached which means the coef_ did not converge\n",
      "  warnings.warn(\"The max_iter was reached which means \"\n",
      "/Users/yuni/opt/anaconda3/lib/python3.9/site-packages/sklearn/linear_model/_sag.py:328: ConvergenceWarning: The max_iter was reached which means the coef_ did not converge\n",
      "  warnings.warn(\"The max_iter was reached which means \"\n",
      "/Users/yuni/opt/anaconda3/lib/python3.9/site-packages/sklearn/linear_model/_sag.py:328: ConvergenceWarning: The max_iter was reached which means the coef_ did not converge\n",
      "  warnings.warn(\"The max_iter was reached which means \"\n"
     ]
    },
    {
     "name": "stdout",
     "output_type": "stream",
     "text": [
      "best_score: 0.04149494339375705\n",
      "best_params: {'penalty': 'l2', 'solver': 'liblinear'}\n"
     ]
    }
   ],
   "source": [
    "# Tuning Logistic Regression\n",
    "\n",
    "param_grid = {\"penalty\": ['l1', 'l2'],\n",
    "             \"solver\":['liblinear', 'saga']}\n",
    "\n",
    "tune_param('LogisticRegression', param_grid)"
   ]
  },
  {
   "cell_type": "code",
   "execution_count": 21,
   "id": "05f685b2",
   "metadata": {},
   "outputs": [
    {
     "name": "stdout",
     "output_type": "stream",
     "text": [
      "best_score: 0.007818885460916478\n",
      "best_params: {'C': 0.2}\n"
     ]
    }
   ],
   "source": [
    "# Tuning SVC\n",
    "\n",
    "param_grid = {\"C\": [0.05, 0.1, 0.15, 0.2, 0.25, 0.5, 0.75, 1]}\n",
    "\n",
    "tune_param('Linear SVC', param_grid)"
   ]
  },
  {
   "cell_type": "code",
   "execution_count": 22,
   "id": "5295b3e2",
   "metadata": {},
   "outputs": [
    {
     "name": "stdout",
     "output_type": "stream",
     "text": [
      "best_score: 0.17920755980213113\n",
      "best_params: {'learning_rate': 5, 'n_estimators': 50}\n"
     ]
    }
   ],
   "source": [
    "# Tuning AdaBoost\n",
    "\n",
    "param_grid = {\"n_estimators\": [50, 75, 100, 125],\n",
    "              \"learning_rate\": [1, 5, 10]}\n",
    "\n",
    "tune_param('AdaBoost', param_grid)"
   ]
  },
  {
   "cell_type": "code",
   "execution_count": null,
   "id": "6179b60b",
   "metadata": {},
   "outputs": [],
   "source": [
    "# Tuning XGBoost\n",
    "\n",
    "param_grid = {\"n_estimators\": [500, 1000, 1100, 1200],\n",
    "              \"max_depth\": [5, 6, 7],\n",
    "              \"min_child_weight\": [100, 200, 300, 400],\n",
    "              \"colsample_bytree\": [0.5, 0.6, 0.7],\n",
    "              \"reg_alpha\": [1, 1.1, 1.2, 1.3],\n",
    "              \"reg_lambda\": [1, 1.1, 1.2, 1.3],\n",
    "              \"subsample\": [0.8, 0.9, 1, 1.1],\n",
    "              \"eta\": [0, 0.1, 0.2, 0.3],\n",
    "              \"seed\": [42, 52, 62]\n",
    "             }\n",
    "\n",
    "tune_param('XGBoost', param_grid)"
   ]
  },
  {
   "cell_type": "code",
   "execution_count": null,
   "id": "f5b619a4",
   "metadata": {},
   "outputs": [],
   "source": [
    "# Tuning ExtraTrees\n",
    "\n",
    "param_grid = {\"n_estimators\": [20, 21, 22, 23],\n",
    "              \"max_depth\": [5, 6, 7],\n",
    "              \"random_state\": [42, 52, 62]\n",
    "             }\n",
    "\n",
    "tune_param('ExtraTrees', param_grid)"
   ]
  },
  {
   "cell_type": "code",
   "execution_count": null,
   "id": "a3ac695f",
   "metadata": {},
   "outputs": [],
   "source": [
    "# Final models \n",
    "\n",
    "estimators_final = [\n",
    "    ('AdaBoost', AdaBoostClassifier(learning_rate=5, n_estimators=50)),\n",
    "    ('ExtraTrees', ExtraTreesClassifier(n_estimators=22, max_depth=6,\n",
    "                               random_state=42, n_jobs=-1, class_weight={1:5,0:1},\n",
    "                               bootstrap=True)),\n",
    "    ('XGBoost', XGBClassifier(max_depth=7, n_estimators=1100, min_child_weight=300, colsample_bytree=0.7, \n",
    "                              reg_alpha=1.3, reg_lambda=1.2, subsample=0.9, eta=0.3, seed=42))\n",
    "]"
   ]
  },
  {
   "cell_type": "code",
   "execution_count": null,
   "id": "aa0a7ff8",
   "metadata": {},
   "outputs": [],
   "source": [
    "# Voting training\n",
    "\n",
    "vc = VotingClassifier(estimators_final, voting='hard')\n",
    "vc.fit(X_train, y_train)\n",
    "y_pred = vc.predict(X_train)\n",
    "print(classification_report(y_train, y_pred))"
   ]
  },
  {
   "cell_type": "code",
   "execution_count": null,
   "id": "af8c387f",
   "metadata": {},
   "outputs": [],
   "source": [
    "# Model test\n",
    "\n",
    "y_pred = vc.predict(X_test)\n",
    "print(classification_report(y_test, y_pred))"
   ]
  },
  {
   "cell_type": "markdown",
   "id": "8b2d63cc",
   "metadata": {},
   "source": [
    "### Save predict to csv"
   ]
  },
  {
   "cell_type": "code",
   "execution_count": null,
   "id": "f62ab529",
   "metadata": {},
   "outputs": [],
   "source": [
    "df = pd.read_csv('S://Cup_IT_2022_Датасет_Data_Science.csv')    \n",
    "y = df['is_in_club']\n",
    "df = fill_missing(df)"
   ]
  },
  {
   "cell_type": "code",
   "execution_count": null,
   "id": "8dbe79c9",
   "metadata": {},
   "outputs": [],
   "source": [
    "_, X_test, _, y_test = train_test_split(df, y, random_state=42, test_size=0.3, shuffle=False)"
   ]
  },
  {
   "cell_type": "code",
   "execution_count": null,
   "id": "cd80d409",
   "metadata": {},
   "outputs": [],
   "source": [
    "bad_index = X_test.index[(X_test < 0).any(1)]\n",
    "X_test = X_test.drop(index=bad_index).reset_index().drop(columns='index')\n",
    "client_id = X_test['client_id']\n",
    "X_test.drop(columns=['client_id','is_in_club'], inplace=True)"
   ]
  },
  {
   "cell_type": "code",
   "execution_count": null,
   "id": "00bdd923",
   "metadata": {},
   "outputs": [],
   "source": [
    "X_test, y_test = prepare_data(X_test, y_test)"
   ]
  },
  {
   "cell_type": "code",
   "execution_count": null,
   "id": "179e5373",
   "metadata": {},
   "outputs": [],
   "source": [
    "y_pred = vc.predict(X_test)"
   ]
  },
  {
   "cell_type": "code",
   "execution_count": null,
   "id": "e006bf95",
   "metadata": {},
   "outputs": [],
   "source": [
    "ans = pd.DataFrame()\n",
    "ans['client_id'] = client_id\n",
    "ans['is_in_club'] = y_pred"
   ]
  },
  {
   "cell_type": "code",
   "execution_count": null,
   "id": "bc1ad5bd",
   "metadata": {},
   "outputs": [],
   "source": [
    "ans.to_csv(\"predictions.csv\",index=None)"
   ]
  }
 ],
 "metadata": {
  "kernelspec": {
   "display_name": "Python 3 (ipykernel)",
   "language": "python",
   "name": "python3"
  },
  "language_info": {
   "codemirror_mode": {
    "name": "ipython",
    "version": 3
   },
   "file_extension": ".py",
   "mimetype": "text/x-python",
   "name": "python",
   "nbconvert_exporter": "python",
   "pygments_lexer": "ipython3",
   "version": "3.9.7"
  }
 },
 "nbformat": 4,
 "nbformat_minor": 5
}
